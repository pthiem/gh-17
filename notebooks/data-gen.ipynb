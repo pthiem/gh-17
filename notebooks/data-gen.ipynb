{
 "cells": [
  {
   "cell_type": "code",
   "execution_count": null,
   "metadata": {
    "collapsed": false
   },
   "outputs": [],
   "source": [
    "import pandas as pd\n",
    "import numpy as np\n",
    "import matplotlib.pyplot as plt\n",
    "import sys,os\n",
    "from sklearn.preprocessing import normalize\n",
    "from sklearn import datasets, linear_model\n",
    "import warnings\n",
    "warnings.filterwarnings('ignore')\n",
    "sys.path.append('..')\n",
    "sys.path.append('data')\n",
    "\n",
    "%matplotlib inline\n",
    "%load_ext autoreload\n",
    "%autoreload 2\n",
    "from IPython.display import clear_output,display,HTML\n",
    "np.set_printoptions(suppress=True)\n",
    "np.set_printoptions(precision=2)"
   ]
  },
  {
   "cell_type": "code",
   "execution_count": null,
   "metadata": {
    "collapsed": false
   },
   "outputs": [],
   "source": [
    "data_dir = '../data'\n",
    "data_fname = 'atoabsgovhack2017.xlsx'\n",
    "data_fpath = os.path.join(data_dir,data_fname)\n",
    "data = pd.read_excel(data_fpath,sheetname='Data')"
   ]
  },
  {
   "cell_type": "code",
   "execution_count": null,
   "metadata": {
    "collapsed": false
   },
   "outputs": [],
   "source": [
    "df = data.set_index('Postcode')"
   ]
  },
  {
   "cell_type": "markdown",
   "metadata": {},
   "source": [
    "measure, postcode, year, \n",
    "value, standard deviation, low, high\n",
    "year from 2006, 2011, 2016, 2021, 2026, 2031\n",
    "growth assumption for each population for each year"
   ]
  },
  {
   "cell_type": "code",
   "execution_count": null,
   "metadata": {
    "collapsed": true
   },
   "outputs": [],
   "source": [
    "x_year = [\n",
    "    'Income year',\n",
    "]\n",
    "# inflation rate = 0.025, interest rate = 0.015\n",
    "growth_rates = np.array([0.025,0.015,0.015,0.015,0.025])\n",
    "x_vars = [\n",
    "    'Taxable income or loss1 ',\n",
    "    #'Net tax',\n",
    "    'Gross interest',\n",
    "    'Net rent',\n",
    "    'Net capital gain',\n",
    "    'Total income or loss',\n",
    "    #'Total deductions',\n",
    "    #'Salary or wages',\n",
    "    #'Medicare levy',\n",
    "    #'Medicare levy surcharge',\n",
    "    #'Total work related expenses',\n",
    "    #'Gifts or donations',\n",
    "    #'HELP assessment debt2'\n",
    "]\n",
    "y_vars = [\n",
    " '0-4 years',\n",
    " '5-9 years',\n",
    " '10-14 years',\n",
    " '15-19 years',\n",
    " '20-24 years',\n",
    " '25-29 years',\n",
    " '30-34 years',\n",
    " '35-39 years',\n",
    " '40-44 years',\n",
    " '45-49 years',\n",
    " '50-54 years',\n",
    " '55-59 years',\n",
    " '60-64 years',\n",
    " '65-69 years',\n",
    " '70-74 years',\n",
    " '75-79 years',\n",
    " '80-84 years',\n",
    " '85-89 years',\n",
    " '90-94 years',\n",
    " '95-99 years',\n",
    " '100 years and over',\n",
    " 'Oceanian',\n",
    " 'North-West European',\n",
    " 'Southern and Eastern European',\n",
    " 'North African and Middle Eastern',\n",
    " 'South-East Asian',\n",
    " 'North-East Asian',\n",
    " 'Southern and Central Asian',\n",
    " 'People of the Americas',\n",
    " 'Sub-Saharan African',\n",
    " 'Male',\n",
    " 'Female',\n",
    " 'under or 0',\n",
    " '$1 to 1000',\n",
    " '1000-1999',\n",
    " '2000+',\n",
    " 'Married in a registered marriage',\n",
    " 'Married in a de facto marriage',\n",
    " 'Not married'\n",
    "]\n",
    "normalising_var = ['Individuals1']\n",
    "new_years = [2020,2025,2030]"
   ]
  },
  {
   "cell_type": "code",
   "execution_count": null,
   "metadata": {
    "collapsed": true
   },
   "outputs": [],
   "source": [
    "def ez_predict(df,postcode,y_var,new_year):\n",
    "    \"\"\"\n",
    "    Predicts the measure values for 2021,2026,2031\n",
    "    df : dataframe, indexed by postcode\n",
    "    postcode : int\n",
    "    y_var : string of name of measure you want to predict\n",
    "    new_year : new year for prediction\n",
    "    \"\"\"\n",
    "    X = df.loc[postcode,x_year].values\n",
    "    Y = np.reshape(df.loc[postcode,y_var],(-1,1))\n",
    "    regr = linear_model.LinearRegression()\n",
    "    regr.fit(X, Y)\n",
    "    x_new = np.reshape(np.array(new_year),(-1,1))\n",
    "    pred = regr.predict(X=x_new)\n",
    "    return pred"
   ]
  },
  {
   "cell_type": "code",
   "execution_count": null,
   "metadata": {
    "collapsed": false
   },
   "outputs": [],
   "source": [
    "pred = ez_predict(df,800,'Not married',2021)"
   ]
  },
  {
   "cell_type": "code",
   "execution_count": null,
   "metadata": {
    "collapsed": false
   },
   "outputs": [],
   "source": [
    "pred_list = []\n",
    "   \n",
    "for postcode in df.index.unique():\n",
    "    y_pred = []\n",
    "    for y_var in y_vars:\n",
    "        x1 = np.divide(\n",
    "            df.loc[postcode,x_vars],\n",
    "            df.loc[postcode,normalising_var]\n",
    "        ).values\n",
    "        x2 = df.loc[postcode,x_year].values\n",
    "        if x1.ndim == 1:\n",
    "            X = np.concatenate((x1,x2),axis=0)\n",
    "            final_x_vals = np.divide(\n",
    "                df.loc[postcode,x_vars].values,\n",
    "                df.loc[postcode,normalising_var].values\n",
    "            )\n",
    "        else:\n",
    "            X = np.concatenate((x1,x2),axis=1)\n",
    "            final_x_vals = np.divide(\n",
    "                df.loc[postcode,x_vars].iloc[-1,:].values,\n",
    "                df.loc[postcode,normalising_var].iloc[-1,:].values\n",
    "            )\n",
    "        Y = np.reshape(df.loc[postcode,y_var],(-1,1))\n",
    "        regr = linear_model.LinearRegression()\n",
    "        regr.fit(X, Y)\n",
    "\n",
    "        x1_new = np.array(\n",
    "            (\n",
    "                final_x_vals * (growth_rates + 1)**5,\n",
    "                final_x_vals * (growth_rates + 1)**10,\n",
    "                final_x_vals * (growth_rates + 1)**15\n",
    "            )\n",
    "        )\n",
    "        x2_new = np.reshape(np.array(new_years),(-1,1))\n",
    "        x_new = np.concatenate((x1_new,x2_new),axis=1)\n",
    "        pred = regr.predict(X=x_new)\n",
    "        y_pred.append(pred)\n",
    "    pred_list.append(y_pred)"
   ]
  },
  {
   "cell_type": "code",
   "execution_count": null,
   "metadata": {
    "collapsed": false
   },
   "outputs": [],
   "source": [
    "measure_arr_list = []\n",
    "for i,y_var in enumerate(y_vars):\n",
    "    new_arr = []\n",
    "    for j,postcode in enumerate(df.index.unique()):\n",
    "        for year in new_years:\n",
    "            pred = pred_list_final[i][j]\n",
    "            new_rows = np.concatenate(\n",
    "                (\n",
    "                    np.reshape([postcode]*3,(-1,1)),\n",
    "                    np.reshape(np.array(new_years),(-1,1)),\n",
    "                    pred\n",
    "                ),\n",
    "                axis=1\n",
    "            )\n",
    "            new_arr.append(new_rows)\n",
    "    measure_arr = pd.DataFrame(np.concatenate(new_arr,axis=0)).set_index([0,1])\n",
    "    measure_arr_list.append(measure_arr)\n",
    "out_df = pd.concat(measure_arr_list,axis=1).reset_index()\n",
    "out_df.columns = ['postcode','year'] + y_vars"
   ]
  },
  {
   "cell_type": "code",
   "execution_count": null,
   "metadata": {
    "collapsed": true
   },
   "outputs": [],
   "source": [
    "out_df.to_csv('../data/predictions.csv')"
   ]
  },
  {
   "cell_type": "code",
   "execution_count": null,
   "metadata": {
    "collapsed": true
   },
   "outputs": [],
   "source": []
  }
 ],
 "metadata": {
  "anaconda-cloud": {},
  "kernelspec": {
   "display_name": "Python [conda env:ipy361]",
   "language": "python",
   "name": "conda-env-ipy361-py"
  },
  "language_info": {
   "codemirror_mode": {
    "name": "ipython",
    "version": 3
   },
   "file_extension": ".py",
   "mimetype": "text/x-python",
   "name": "python",
   "nbconvert_exporter": "python",
   "pygments_lexer": "ipython3",
   "version": "3.6.0"
  }
 },
 "nbformat": 4,
 "nbformat_minor": 2
}
